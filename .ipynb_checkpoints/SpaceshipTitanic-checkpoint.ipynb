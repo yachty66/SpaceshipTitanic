{
 "cells": [
  {
   "cell_type": "code",
   "execution_count": 11,
   "id": "96788f08",
   "metadata": {},
   "outputs": [],
   "source": [
    "import opendatasets as od"
   ]
  },
  {
   "cell_type": "code",
   "execution_count": 15,
   "id": "9693825a",
   "metadata": {},
   "outputs": [
    {
     "name": "stdout",
     "output_type": "stream",
     "text": [
      "Downloading spaceship-titanic.zip to ./spaceship-titanic\n"
     ]
    },
    {
     "name": "stderr",
     "output_type": "stream",
     "text": [
      "100%|████████████████████████████████████████| 299k/299k [00:00<00:00, 1.54MB/s]"
     ]
    },
    {
     "name": "stdout",
     "output_type": "stream",
     "text": [
      "\n",
      "Extracting archive ./spaceship-titanic/spaceship-titanic.zip to ./spaceship-titanic\n"
     ]
    },
    {
     "name": "stderr",
     "output_type": "stream",
     "text": [
      "\n"
     ]
    }
   ],
   "source": [
    "\n",
    "od.download(\"https://www.kaggle.com/c/spaceship-titanic/data\")"
   ]
  },
  {
   "cell_type": "code",
   "execution_count": null,
   "id": "70e27a95",
   "metadata": {},
   "outputs": [],
   "source": [
    "'''\n",
    "Options:\n",
    "    1. make account with wobbert mail\n",
    "        1. make account with wobbert\n",
    "        2. open notebook under last point \n",
    "        3. do the execise from this notebook precisely\n",
    "        4. save the exercise in my OS as \"sample random forest\". create \"template\" folder\n",
    "        5. delete everything from old spaceship notebook\n",
    "        6. make steps on how to implement spaceship notebook\n",
    "        7. implement steps\n",
    "    2. do spaceship again with current example\n",
    "    \n",
    "    Steps on how to implement notebook:\n",
    "        1. get data \n",
    "        2. access only columns with float values\n",
    "        3. remove rows with empty entries\n",
    "        4. seperate the target\n",
    "        5. create features\n",
    "        6. create X with features\n",
    "        7. define rf model\n",
    "        8. fit\n",
    "        9. load test data\n",
    "        10. creat X with features\n",
    "        11. remove emty entry rows\n",
    "        12. predict on test_X\n",
    "        13. save file \n",
    "        \n",
    "    Review:\n",
    "        I need 4277 rows in the submission. Its not allowed to drop value. I need to exchange the empty value. \n",
    "        ways to deal with the empty cell: 1. just zero value 2. replace with mean value\n",
    "        \n",
    "    Steps:\n",
    "        1. go through every cell of each column and if cell == NaN replace with mean\n",
    "        2. \n",
    "'''"
   ]
  },
  {
   "cell_type": "code",
   "execution_count": 2,
   "id": "38f6a321",
   "metadata": {},
   "outputs": [],
   "source": [
    "import pandas as pd\n",
    "from sklearn.ensemble import RandomForestRegressor\n",
    "from sklearn.metrics import mean_absolute_error\n",
    "from sklearn.model_selection import train_test_split"
   ]
  },
  {
   "cell_type": "code",
   "execution_count": 80,
   "id": "0c96cabc",
   "metadata": {},
   "outputs": [],
   "source": [
    "# Load the data\n",
    "trainDataPath = 'train.csv'\n",
    "\n",
    "#get mean of every relevant column\n",
    "trainData = pd.read_csv(trainDataPath)\n",
    "meanAge = trainData[\"Age\"].mean()\n",
    "meanRoomService = trainData[\"RoomService\"].mean()\n",
    "meanFoodCourt = trainData[\"FoodCourt\"].mean()\n",
    "meanShoppingMall = trainData[\"ShoppingMall\"].mean()\n",
    "meanSpa = trainData[\"Spa\"].mean()\n",
    "meanVRDeck = trainData[\"VRDeck\"].mean()\n",
    "\n",
    "#Replace NaNs in column S2 with the\n",
    "#mean of values in the same column\n",
    "trainData['Age'].fillna(value=meanAge, inplace=True)\n",
    "trainData['RoomService'].fillna(value=meanRoomService, inplace=True)\n",
    "trainData['FoodCourt'].fillna(value=meanFoodCourt, inplace=True)\n",
    "trainData['ShoppingMall'].fillna(value=meanShoppingMall, inplace=True)\n",
    "trainData['Spa'].fillna(value=meanSpa, inplace=True)\n",
    "trainData['VRDeck'].fillna(value=meanVRDeck, inplace=True)\n",
    "\n",
    "#separate the target\n",
    "relevantFeatures = [\"Age\", \"RoomService\", \"FoodCourt\", \"ShoppingMall\", \"Spa\", \"VRDeck\", \"Transported\"]\n",
    "trainDataCleaned = trainData[relevantFeatures]\n",
    "y = trainDataCleaned.Transported\n",
    "\n",
    "\n"
   ]
  },
  {
   "cell_type": "code",
   "execution_count": 81,
   "id": "c2351545",
   "metadata": {},
   "outputs": [],
   "source": [
    "features = [\"Age\", \"RoomService\", \"FoodCourt\", \"ShoppingMall\", \"Spa\", \"VRDeck\"]"
   ]
  },
  {
   "cell_type": "code",
   "execution_count": 82,
   "id": "3d378999",
   "metadata": {},
   "outputs": [],
   "source": [
    "X = trainDataCleaned[features]"
   ]
  },
  {
   "cell_type": "code",
   "execution_count": 83,
   "id": "a5f0f29f",
   "metadata": {},
   "outputs": [],
   "source": [
    "rf = RandomForestRegressor(random_state=1)"
   ]
  },
  {
   "cell_type": "code",
   "execution_count": 84,
   "id": "bc81c0dc",
   "metadata": {},
   "outputs": [
    {
     "data": {
      "text/plain": [
       "RandomForestRegressor(random_state=1)"
      ]
     },
     "execution_count": 84,
     "metadata": {},
     "output_type": "execute_result"
    }
   ],
   "source": [
    "rf.fit(X, y)"
   ]
  },
  {
   "cell_type": "code",
   "execution_count": 92,
   "id": "bc6f8df0",
   "metadata": {},
   "outputs": [],
   "source": [
    "# path to file you will use for predictions\n",
    "testDataPath = 'test.csv'\n",
    "\n",
    "# read test data file using pandas\n",
    "testData = pd.read_csv(testDataPath)\n",
    "\n",
    "#get mean of every relevant column\n",
    "testMeanAge = testData[\"Age\"].mean()\n",
    "testMeanRoomService = testData[\"RoomService\"].mean()\n",
    "testMeanFoodCourt = testData[\"FoodCourt\"].mean()\n",
    "testMeanShoppingMall = testData[\"ShoppingMall\"].mean()\n",
    "testMeanSpa = testData[\"Spa\"].mean()\n",
    "testMeanVRDeck = testData[\"VRDeck\"].mean()\n",
    "\n",
    "#Replace NaNs in column S2 with the\n",
    "#mean of values in the same column\n",
    "testData['Age'].fillna(value=testMeanAge, inplace=True)\n",
    "testData['RoomService'].fillna(value=testMeanRoomService, inplace=True)\n",
    "testData['FoodCourt'].fillna(value=testMeanFoodCourt, inplace=True)\n",
    "testData['ShoppingMall'].fillna(value=testMeanShoppingMall, inplace=True)\n",
    "testData['Spa'].fillna(value=testMeanSpa, inplace=True)\n",
    "testData['VRDeck'].fillna(value=testMeanVRDeck, inplace=True)\n",
    "\n",
    "featuresTestData = [\"PassengerId\",\"Age\", \"RoomService\", \"FoodCourt\", \"ShoppingMall\", \"Spa\", \"VRDeck\"]\n",
    "testData=testData[featuresTestData]\n",
    "\n",
    "# create test_X which comes from test_data but includes only the columns you used for prediction.\n",
    "# The list of columns is stored in a variable called features\n",
    "test_X = testData[features]\n",
    "\n",
    "# make predictions which we will submit. \n",
    "test_preds = rf.predict(test_X)"
   ]
  },
  {
   "cell_type": "code",
   "execution_count": 93,
   "id": "8e414e53",
   "metadata": {},
   "outputs": [],
   "source": [
    "# Run the code to save predictions in the format used for competition scoring\n",
    "output = pd.DataFrame({'PassengerId': testData.PassengerId,\n",
    "                       'Transported': test_preds})\n",
    "output.to_csv('submissionFinal.csv', index=False)"
   ]
  },
  {
   "cell_type": "code",
   "execution_count": null,
   "id": "05bcbd7e",
   "metadata": {},
   "outputs": [],
   "source": []
  },
  {
   "cell_type": "code",
   "execution_count": null,
   "id": "00fa402f",
   "metadata": {},
   "outputs": [],
   "source": []
  }
 ],
 "metadata": {
  "kernelspec": {
   "display_name": "Python 3 (ipykernel)",
   "language": "python",
   "name": "python3"
  },
  "language_info": {
   "codemirror_mode": {
    "name": "ipython",
    "version": 3
   },
   "file_extension": ".py",
   "mimetype": "text/x-python",
   "name": "python",
   "nbconvert_exporter": "python",
   "pygments_lexer": "ipython3",
   "version": "3.9.7"
  }
 },
 "nbformat": 4,
 "nbformat_minor": 5
}
